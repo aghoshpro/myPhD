{
 "cells": [
  {
   "cell_type": "markdown",
   "id": "59587953",
   "metadata": {},
   "source": [
    "### Initialize connection to **rasdaman Manager** (rasmgr)\n",
    "The DBConnector maintains the connection to rasdaman. In order to connect it is necessary to specify the host (*default: localhost*) and port (*default: 7001*) on which rasmgr is running, as well as valid rasdaman username with read and write permissions (*default: rasadmin*) and password (*default: rasadmin*)."
   ]
  },
  {
   "cell_type": "code",
   "execution_count": 24,
   "id": "377cd37e",
   "metadata": {},
   "outputs": [],
   "source": [
    "import numpy as np\n",
    "#import pandas as pd\n",
    "#import matplotlib.pyplot as plt"
   ]
  },
  {
   "cell_type": "code",
   "execution_count": 10,
   "id": "e5251214",
   "metadata": {},
   "outputs": [],
   "source": [
    "from rasdapy.db_connector import DBConnector\n",
    "from rasdapy.query_executor import QueryExecutor"
   ]
  },
  {
   "cell_type": "code",
   "execution_count": 11,
   "id": "71609cf0",
   "metadata": {},
   "outputs": [],
   "source": [
    "db_connector = DBConnector(\"localhost\", 7001, \"rasadmin\", \"rasadmin\")\n",
    "db_connector.open()"
   ]
  },
  {
   "cell_type": "code",
   "execution_count": 12,
   "id": "904c24ed",
   "metadata": {},
   "outputs": [
    {
     "name": "stdout",
     "output_type": "stream",
     "text": [
      "3.8.10\n"
     ]
    }
   ],
   "source": [
    "from platform import python_version\n",
    "\n",
    "print(python_version())"
   ]
  },
  {
   "cell_type": "code",
   "execution_count": 13,
   "id": "011562a5",
   "metadata": {},
   "outputs": [],
   "source": [
    "query_executor = QueryExecutor(db_connector)"
   ]
  },
  {
   "cell_type": "code",
   "execution_count": 14,
   "id": "d974906b",
   "metadata": {},
   "outputs": [
    {
     "name": "stdout",
     "output_type": "stream",
     "text": [
      "['output1', 'AIR_TEMP_03', 'AIR_TEMP_02', 'AIR_TEMP_X', 'AIR_TEMP_01']\n"
     ]
    }
   ],
   "source": [
    "collection_list = query_executor.execute_read(\"select c from RAS_COLLECTIONNAMES as c\")\n",
    "print(collection_list)"
   ]
  },
  {
   "cell_type": "code",
   "execution_count": 19,
   "id": "d8d41b8d",
   "metadata": {},
   "outputs": [],
   "source": [
    "dim = query_executor.execute_read(\"select sdom(c) from AIR_TEMP_X as c\")         "
   ]
  },
  {
   "cell_type": "code",
   "execution_count": 20,
   "id": "348ec72e",
   "metadata": {},
   "outputs": [
    {
     "name": "stdout",
     "output_type": "stream",
     "text": [
      "[0:1379,0:359,0:719]\n"
     ]
    }
   ],
   "source": [
    "print(dim)"
   ]
  },
  {
   "cell_type": "code",
   "execution_count": 26,
   "id": "d379fcf4",
   "metadata": {},
   "outputs": [
    {
     "name": "stdout",
     "output_type": "stream",
     "text": [
      "(11, 21)\n",
      "[[-9.96921e+36 -9.96921e+36 -9.96921e+36 -9.96921e+36 -9.96921e+36\n",
      "  -9.96921e+36 -9.96921e+36 -9.96921e+36 -9.96921e+36 -9.96921e+36\n",
      "  -9.96921e+36 -9.96921e+36 -9.96921e+36 -9.96921e+36 -9.96921e+36\n",
      "  -9.96921e+36 -9.96921e+36 -9.96921e+36 -9.96921e+36 -9.96921e+36\n",
      "  -9.96921e+36]\n",
      " [-9.96921e+36 -9.96921e+36 -9.96921e+36 -9.96921e+36 -9.96921e+36\n",
      "  -9.96921e+36 -9.96921e+36 -9.96921e+36 -9.96921e+36 -9.96921e+36\n",
      "  -9.96921e+36 -9.96921e+36 -9.96921e+36 -9.96921e+36 -9.96921e+36\n",
      "  -9.96921e+36 -9.96921e+36 -9.96921e+36 -9.96921e+36 -9.96921e+36\n",
      "  -9.96921e+36]\n",
      " [-9.96921e+36 -9.96921e+36 -9.96921e+36 -9.96921e+36 -9.96921e+36\n",
      "  -9.96921e+36 -9.96921e+36 -9.96921e+36 -9.96921e+36 -9.96921e+36\n",
      "  -9.96921e+36 -9.96921e+36 -9.96921e+36 -9.96921e+36 -9.96921e+36\n",
      "  -9.96921e+36 -9.96921e+36 -9.96921e+36 -9.96921e+36 -9.96921e+36\n",
      "  -9.96921e+36]\n",
      " [-9.96921e+36 -9.96921e+36 -9.96921e+36 -9.96921e+36 -9.96921e+36\n",
      "  -9.96921e+36 -9.96921e+36 -9.96921e+36 -9.96921e+36 -9.96921e+36\n",
      "  -9.96921e+36 -9.96921e+36 -9.96921e+36 -9.96921e+36 -9.96921e+36\n",
      "  -9.96921e+36 -9.96921e+36 -9.96921e+36 -9.96921e+36 -9.96921e+36\n",
      "  -9.96921e+36]\n",
      " [-9.96921e+36 -9.96921e+36 -9.96921e+36 -9.96921e+36 -9.96921e+36\n",
      "  -9.96921e+36 -9.96921e+36 -9.96921e+36 -9.96921e+36 -9.96921e+36\n",
      "  -9.96921e+36 -9.96921e+36 -9.96921e+36 -9.96921e+36 -9.96921e+36\n",
      "  -9.96921e+36 -9.96921e+36 -9.96921e+36 -9.96921e+36 -9.96921e+36\n",
      "  -9.96921e+36]\n",
      " [-9.96921e+36 -9.96921e+36 -9.96921e+36 -9.96921e+36 -9.96921e+36\n",
      "  -9.96921e+36 -9.96921e+36 -9.96921e+36 -9.96921e+36 -9.96921e+36\n",
      "  -9.96921e+36 -9.96921e+36 -9.96921e+36 -9.96921e+36 -9.96921e+36\n",
      "  -9.96921e+36 -9.96921e+36 -9.96921e+36 -9.96921e+36 -9.96921e+36\n",
      "  -9.96921e+36]\n",
      " [-9.96921e+36 -9.96921e+36 -9.96921e+36 -9.96921e+36 -9.96921e+36\n",
      "  -9.96921e+36 -9.96921e+36 -9.96921e+36 -9.96921e+36 -9.96921e+36\n",
      "  -9.96921e+36 -9.96921e+36 -9.96921e+36 -9.96921e+36 -9.96921e+36\n",
      "  -9.96921e+36 -9.96921e+36 -9.96921e+36 -9.96921e+36 -9.96921e+36\n",
      "  -9.96921e+36]\n",
      " [-9.96921e+36 -9.96921e+36 -9.96921e+36 -9.96921e+36 -9.96921e+36\n",
      "  -9.96921e+36 -9.96921e+36 -9.96921e+36 -9.96921e+36 -9.96921e+36\n",
      "  -9.96921e+36 -9.96921e+36 -9.96921e+36 -9.96921e+36 -9.96921e+36\n",
      "  -9.96921e+36 -9.96921e+36 -9.96921e+36 -9.96921e+36 -9.96921e+36\n",
      "  -9.96921e+36]\n",
      " [-9.96921e+36 -9.96921e+36 -9.96921e+36 -9.96921e+36 -9.96921e+36\n",
      "  -9.96921e+36 -9.96921e+36 -9.96921e+36 -9.96921e+36 -9.96921e+36\n",
      "  -9.96921e+36 -9.96921e+36 -9.96921e+36 -9.96921e+36 -9.96921e+36\n",
      "  -9.96921e+36 -9.96921e+36 -9.96921e+36 -9.96921e+36 -9.96921e+36\n",
      "  -9.96921e+36]\n",
      " [-9.96921e+36 -9.96921e+36 -9.96921e+36 -9.96921e+36 -9.96921e+36\n",
      "  -9.96921e+36 -9.96921e+36 -9.96921e+36 -9.96921e+36 -9.96921e+36\n",
      "  -9.96921e+36 -9.96921e+36 -9.96921e+36 -9.96921e+36 -9.96921e+36\n",
      "  -9.96921e+36 -9.96921e+36 -9.96921e+36 -9.96921e+36  1.00000e+00\n",
      "  -8.00000e-01]\n",
      " [-9.96921e+36 -9.96921e+36 -9.96921e+36 -9.96921e+36 -9.96921e+36\n",
      "  -9.96921e+36 -9.96921e+36 -9.96921e+36 -9.96921e+36 -9.96921e+36\n",
      "  -9.96921e+36 -9.96921e+36 -9.96921e+36 -9.96921e+36 -9.96921e+36\n",
      "  -9.96921e+36 -9.96921e+36 -4.00000e+00 -2.20000e+00 -9.96921e+36\n",
      "  -4.80000e+00]]\n"
     ]
    },
    {
     "name": "stderr",
     "output_type": "stream",
     "text": [
      "Exception in thread Thread-7:\n",
      "Traceback (most recent call last):\n",
      "  File \"/usr/lib/python3.8/threading.py\", line 932, in _bootstrap_inner\n",
      "    self.run()\n",
      "  File \"/home/arkaghosh/.local/lib/python3.8/site-packages/rasdapy/cores/utils.py\", line 478, in run\n",
      "    self._target(*self._args)\n",
      "  File \"/home/arkaghosh/.local/lib/python3.8/site-packages/rasdapy/cores/remote_procedures.py\", line 73, in rasmgr_keep_alive\n",
      "    return stub.KeepAlive(make_rasmgr_keep_alive_req(cuuid), _TIMEOUT_SECONDS)\n",
      "  File \"/home/arkaghosh/.local/lib/python3.8/site-packages/grpc/_channel.py\", line 946, in __call__\n",
      "    return _end_unary_response_blocking(state, call, False, None)\n",
      "  File \"/home/arkaghosh/.local/lib/python3.8/site-packages/grpc/_channel.py\", line 849, in _end_unary_response_blocking\n",
      "    raise _InactiveRpcError(state)\n",
      "grpc._channel._InactiveRpcError: <_InactiveRpcError of RPC that terminated with:\n",
      "\tstatus = StatusCode.UNKNOWN\n",
      "\tdetails = \"\u001apThe client with client ID 2a887f31-9ded-4025-8f17-3bb168e8e422 does not exist: cannot reset client's liveliness. \u0001\"\n",
      "\tdebug_error_string = \"UNKNOWN:Error received from peer ipv4:127.0.0.1:7001 {created_time:\"2023-01-12T23:27:56.321003744+05:30\", grpc_status:2, grpc_message:\"\\x1apThe client with client ID 2a887f31-9ded-4025-8f17-3bb168e8e422 does not exist: cannot reset client\\'s liveliness. \\x01\"}\"\n",
      ">\n"
     ]
    }
   ],
   "source": [
    "result = query_executor.execute_read(\"select m[50, 30:40 , 20:40] from AIR_TEMP_X as m\")\n",
    "numpy_array = result.to_array()\n",
    "print(numpy_array.shape)\n",
    "print(numpy_array)"
   ]
  },
  {
   "cell_type": "code",
   "execution_count": null,
   "id": "295fc7da",
   "metadata": {},
   "outputs": [],
   "source": []
  }
 ],
 "metadata": {
  "kernelspec": {
   "display_name": "Python 3 (ipykernel)",
   "language": "python",
   "name": "python3"
  },
  "language_info": {
   "codemirror_mode": {
    "name": "ipython",
    "version": 3
   },
   "file_extension": ".py",
   "mimetype": "text/x-python",
   "name": "python",
   "nbconvert_exporter": "python",
   "pygments_lexer": "ipython3",
   "version": "3.8.10"
  }
 },
 "nbformat": 4,
 "nbformat_minor": 5
}
